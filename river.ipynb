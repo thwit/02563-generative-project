{
 "cells": [
  {
   "cell_type": "code",
   "execution_count": 122,
   "metadata": {},
   "outputs": [
    {
     "ename": "ImportError",
     "evalue": "cannot import name 'imread' from 'scipy.misc' (c:\\Users\\thoma\\AppData\\Local\\Programs\\Python\\Python310\\lib\\site-packages\\scipy\\misc\\__init__.py)",
     "output_type": "error",
     "traceback": [
      "\u001b[1;31m---------------------------------------------------------------------------\u001b[0m",
      "\u001b[1;31mImportError\u001b[0m                               Traceback (most recent call last)",
      "Cell \u001b[1;32mIn[122], line 3\u001b[0m\n\u001b[0;32m      1\u001b[0m \u001b[39mimport\u001b[39;00m \u001b[39mnumpy\u001b[39;00m \u001b[39mas\u001b[39;00m \u001b[39mnp\u001b[39;00m\n\u001b[0;32m      2\u001b[0m \u001b[39mimport\u001b[39;00m \u001b[39mmatplotlib\u001b[39;00m\u001b[39m.\u001b[39;00m\u001b[39mpyplot\u001b[39;00m \u001b[39mas\u001b[39;00m \u001b[39mplt\u001b[39;00m\n\u001b[1;32m----> 3\u001b[0m \u001b[39mfrom\u001b[39;00m \u001b[39mscipy\u001b[39;00m\u001b[39m.\u001b[39;00m\u001b[39mmisc\u001b[39;00m \u001b[39mimport\u001b[39;00m imread\n\u001b[0;32m      4\u001b[0m \u001b[39mfrom\u001b[39;00m \u001b[39mperlin_numpy\u001b[39;00m \u001b[39mimport\u001b[39;00m generate_perlin_noise_2d,  generate_fractal_noise_2d \n",
      "\u001b[1;31mImportError\u001b[0m: cannot import name 'imread' from 'scipy.misc' (c:\\Users\\thoma\\AppData\\Local\\Programs\\Python\\Python310\\lib\\site-packages\\scipy\\misc\\__init__.py)"
     ]
    }
   ],
   "source": [
    "import numpy as np\n",
    "import matplotlib.pyplot as plt\n",
    "from scipy.misc import imread\n",
    "from perlin_numpy import generate_perlin_noise_2d,  generate_fractal_noise_2d "
   ]
  },
  {
   "cell_type": "code",
   "execution_count": 119,
   "metadata": {},
   "outputs": [
    {
     "data": {
      "text/plain": [
       "(262144,)"
      ]
     },
     "execution_count": 119,
     "metadata": {},
     "output_type": "execute_result"
    }
   ],
   "source": [
    "hmap_ = generate_perlin_noise_2d((128, 128), (16,4))\n",
    "hmap_ = np.array(Image.open('map.png').convert('L').getdata(), dtype=float) / 255\n",
    "hmap_.shape\n"
   ]
  },
  {
   "cell_type": "code",
   "execution_count": 118,
   "metadata": {},
   "outputs": [
    {
     "ename": "ValueError",
     "evalue": "too many values to unpack (expected 2)",
     "output_type": "error",
     "traceback": [
      "\u001b[1;31m---------------------------------------------------------------------------\u001b[0m",
      "\u001b[1;31mValueError\u001b[0m                                Traceback (most recent call last)",
      "Cell \u001b[1;32mIn[118], line 3\u001b[0m\n\u001b[0;32m      1\u001b[0m hmap \u001b[39m=\u001b[39m np\u001b[39m.\u001b[39mcopy(hmap_)\n\u001b[0;32m      2\u001b[0m xy \u001b[39m=\u001b[39m np\u001b[39m.\u001b[39mrandom\u001b[39m.\u001b[39mrandint(\u001b[39m128\u001b[39m, size\u001b[39m=\u001b[39m\u001b[39m2\u001b[39m)\n\u001b[1;32m----> 3\u001b[0m dx, dy \u001b[39m=\u001b[39m np\u001b[39m.\u001b[39mgradient(hmap)\n\u001b[0;32m      4\u001b[0m dt \u001b[39m=\u001b[39m \u001b[39m1\u001b[39m\n\u001b[0;32m      5\u001b[0m \u001b[39mfor\u001b[39;00m i \u001b[39min\u001b[39;00m \u001b[39mrange\u001b[39m(\u001b[39m2500\u001b[39m):\n",
      "\u001b[1;31mValueError\u001b[0m: too many values to unpack (expected 2)"
     ]
    }
   ],
   "source": [
    "hmap = np.copy(hmap_)\n",
    "xy = np.random.randint(128, size=2)\n",
    "dx, dy = np.gradient(hmap)\n",
    "dt = 1\n",
    "for i in range(2500):\n",
    "    visited = dict()\n",
    "    x_, y_ = xy + np.random.normal(0, 5, size=2)\n",
    "    \n",
    "    while True:\n",
    "        try:\n",
    "            hmap[int(x_), int(y_)] = max(-1, hmap[int(x_), int(y_)] * 0.999)\n",
    "            x_ += np.sign(dx[int(x_), int(y_)]) * dt + np.random.normal(0, 0.1)\n",
    "            y_ += np.sign(dy[int(x_), int(y_)]) * dt + np.random.normal(0, 0.1)\n",
    "\n",
    "            if (int(x_), int(y_)) in visited:\n",
    "                visited[(int(x_), int(y_))] += 1\n",
    "            else:\n",
    "                visited[(int(x_), int(y_))] = 1\n",
    "\n",
    "            if visited[(int(x_), int(y_))] > 50:\n",
    "                break\n",
    "            \n",
    "        except IndexError:\n",
    "            break\n",
    "\n",
    "plt.imshow(hmap, cmap='gray', interpolation='lanczos')"
   ]
  },
  {
   "cell_type": "code",
   "execution_count": null,
   "metadata": {},
   "outputs": [],
   "source": []
  }
 ],
 "metadata": {
  "kernelspec": {
   "display_name": "Python 3",
   "language": "python",
   "name": "python3"
  },
  "language_info": {
   "codemirror_mode": {
    "name": "ipython",
    "version": 3
   },
   "file_extension": ".py",
   "mimetype": "text/x-python",
   "name": "python",
   "nbconvert_exporter": "python",
   "pygments_lexer": "ipython3",
   "version": "3.10.7"
  },
  "orig_nbformat": 4
 },
 "nbformat": 4,
 "nbformat_minor": 2
}
